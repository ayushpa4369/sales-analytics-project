{
  "cells": [
    {
      "cell_type": "code",
      "execution_count": 53,
      "id": "b9cb3608-0c18-4e85-a897-6fb540d06fc3",
      "metadata": {
        "id": "b9cb3608-0c18-4e85-a897-6fb540d06fc3",
        "colab": {
          "base_uri": "https://localhost:8080/"
        },
        "outputId": "027fa817-394e-48f4-ece8-cf95dfaa954b"
      },
      "outputs": [
        {
          "output_type": "stream",
          "name": "stdout",
          "text": [
            "Number of classes: 16405\n",
            "Unique encoded labels: [ 0  1  2  3  4  5  6  7  8  9 10 11 12 13 14 15 16 17 18 19 20 21 22 23\n",
            " 24 25 26 27 28 29 30 31 32 33 34 35 36 37 38 39 40 41 42 43 44 45 46 47\n",
            " 48 49 50 51 52 53 54 55 56 57 58 59 60 61 62 63 64]\n",
            "64\n",
            "Shape of y_train_one_hot: (99, 65)\n",
            "First few rows of y_train_one_hot:\n",
            " [[0. 0. 0. 0. 0. 0. 0. 0. 0. 0. 0. 0. 0. 0. 0. 0. 0. 0. 0. 0. 0. 0. 0. 0.\n",
            "  0. 0. 0. 0. 0. 0. 0. 0. 0. 0. 0. 0. 0. 0. 0. 0. 0. 0. 0. 0. 0. 0. 0. 0.\n",
            "  0. 0. 0. 0. 0. 1. 0. 0. 0. 0. 0. 0. 0. 0. 0. 0. 0.]\n",
            " [0. 0. 0. 0. 0. 1. 0. 0. 0. 0. 0. 0. 0. 0. 0. 0. 0. 0. 0. 0. 0. 0. 0. 0.\n",
            "  0. 0. 0. 0. 0. 0. 0. 0. 0. 0. 0. 0. 0. 0. 0. 0. 0. 0. 0. 0. 0. 0. 0. 0.\n",
            "  0. 0. 0. 0. 0. 0. 0. 0. 0. 0. 0. 0. 0. 0. 0. 0. 0.]\n",
            " [0. 0. 1. 0. 0. 0. 0. 0. 0. 0. 0. 0. 0. 0. 0. 0. 0. 0. 0. 0. 0. 0. 0. 0.\n",
            "  0. 0. 0. 0. 0. 0. 0. 0. 0. 0. 0. 0. 0. 0. 0. 0. 0. 0. 0. 0. 0. 0. 0. 0.\n",
            "  0. 0. 0. 0. 0. 0. 0. 0. 0. 0. 0. 0. 0. 0. 0. 0. 0.]\n",
            " [0. 0. 1. 0. 0. 0. 0. 0. 0. 0. 0. 0. 0. 0. 0. 0. 0. 0. 0. 0. 0. 0. 0. 0.\n",
            "  0. 0. 0. 0. 0. 0. 0. 0. 0. 0. 0. 0. 0. 0. 0. 0. 0. 0. 0. 0. 0. 0. 0. 0.\n",
            "  0. 0. 0. 0. 0. 0. 0. 0. 0. 0. 0. 0. 0. 0. 0. 0. 0.]\n",
            " [0. 0. 0. 0. 0. 0. 0. 0. 0. 0. 0. 0. 0. 0. 1. 0. 0. 0. 0. 0. 0. 0. 0. 0.\n",
            "  0. 0. 0. 0. 0. 0. 0. 0. 0. 0. 0. 0. 0. 0. 0. 0. 0. 0. 0. 0. 0. 0. 0. 0.\n",
            "  0. 0. 0. 0. 0. 0. 0. 0. 0. 0. 0. 0. 0. 0. 0. 0. 0.]\n",
            " [0. 0. 0. 0. 0. 0. 0. 0. 0. 0. 0. 0. 0. 0. 1. 0. 0. 0. 0. 0. 0. 0. 0. 0.\n",
            "  0. 0. 0. 0. 0. 0. 0. 0. 0. 0. 0. 0. 0. 0. 0. 0. 0. 0. 0. 0. 0. 0. 0. 0.\n",
            "  0. 0. 0. 0. 0. 0. 0. 0. 0. 0. 0. 0. 0. 0. 0. 0. 0.]\n",
            " [0. 0. 0. 0. 0. 0. 0. 0. 0. 0. 0. 0. 0. 0. 1. 0. 0. 0. 0. 0. 0. 0. 0. 0.\n",
            "  0. 0. 0. 0. 0. 0. 0. 0. 0. 0. 0. 0. 0. 0. 0. 0. 0. 0. 0. 0. 0. 0. 0. 0.\n",
            "  0. 0. 0. 0. 0. 0. 0. 0. 0. 0. 0. 0. 0. 0. 0. 0. 0.]\n",
            " [0. 0. 0. 0. 0. 0. 0. 0. 0. 0. 0. 0. 0. 0. 1. 0. 0. 0. 0. 0. 0. 0. 0. 0.\n",
            "  0. 0. 0. 0. 0. 0. 0. 0. 0. 0. 0. 0. 0. 0. 0. 0. 0. 0. 0. 0. 0. 0. 0. 0.\n",
            "  0. 0. 0. 0. 0. 0. 0. 0. 0. 0. 0. 0. 0. 0. 0. 0. 0.]\n",
            " [0. 0. 0. 0. 0. 0. 0. 0. 0. 0. 0. 0. 0. 0. 1. 0. 0. 0. 0. 0. 0. 0. 0. 0.\n",
            "  0. 0. 0. 0. 0. 0. 0. 0. 0. 0. 0. 0. 0. 0. 0. 0. 0. 0. 0. 0. 0. 0. 0. 0.\n",
            "  0. 0. 0. 0. 0. 0. 0. 0. 0. 0. 0. 0. 0. 0. 0. 0. 0.]\n",
            " [0. 0. 0. 0. 0. 0. 0. 0. 0. 0. 0. 0. 0. 0. 1. 0. 0. 0. 0. 0. 0. 0. 0. 0.\n",
            "  0. 0. 0. 0. 0. 0. 0. 0. 0. 0. 0. 0. 0. 0. 0. 0. 0. 0. 0. 0. 0. 0. 0. 0.\n",
            "  0. 0. 0. 0. 0. 0. 0. 0. 0. 0. 0. 0. 0. 0. 0. 0. 0.]]\n",
            "<function to_categorical at 0x78bc4684cf70>\n"
          ]
        }
      ],
      "source": [
        "import pandas as pd\n",
        "from sklearn.preprocessing import LabelEncoder\n",
        "from tensorflow.keras.utils import to_categorical\n",
        "\n",
        "# Load training CSV\n",
        "train_data = pd.read_csv(r'/content/train.csv')\n",
        "\n",
        "# Extract image URLs and labels\n",
        "train_image_urls = train_data['image_link'].values\n",
        "train_labels = train_data['entity_value'].values\n",
        "\n",
        "# Encode labels if needed\n",
        "label_encoder = LabelEncoder()\n",
        "train_labels_encoded = label_encoder.fit_transform(train_labels)\n",
        "\n",
        "num_classes = df['entity_value'].nunique()\n",
        "print(f\"Number of classes: {num_classes}\")\n",
        "\n",
        "train_labels_encoded = train_labels_encoded.astype(int)\n",
        "\n",
        "# One-hot encoding for multi-class classification\n",
        "y_train_one_hot = to_categorical(train_labels_encoded)\n",
        "\n",
        "# Check unique values of encoded labels\n",
        "print(\"Unique encoded labels:\", np.unique(train_labels_encoded))\n",
        "\n",
        "print(np.max(train_labels_encoded))\n",
        "\n",
        "# Check shape of one-hot encoded labels\n",
        "print(\"Shape of y_train_one_hot:\", y_train_one_hot.shape)\n",
        "\n",
        "# Print a few rows of one-hot encoded labels\n",
        "print(\"First few rows of y_train_one_hot:\\n\", y_train_one_hot[:10])\n",
        "print(to_categorical)"
      ]
    },
    {
      "cell_type": "code",
      "execution_count": 40,
      "id": "dd80d9b0-7898-4064-b3bf-2fa33ac489c6",
      "metadata": {
        "id": "dd80d9b0-7898-4064-b3bf-2fa33ac489c6"
      },
      "outputs": [],
      "source": [
        "import numpy as np\n",
        "import requests\n",
        "from PIL import Image, ImageFile\n",
        "from io import BytesIO\n",
        "from tensorflow.keras.utils import Sequence\n",
        "\n",
        "# This ensures truncated images can still be processed\n",
        "ImageFile.LOAD_TRUNCATED_IMAGES = True\n",
        "\n",
        "# Function to load and preprocess images from URLs with error handling\n",
        "def load_image_from_url(url, target_size=(224, 224)):\n",
        "    try:\n",
        "        response = requests.get(url, timeout=10)  # Set timeout for slow responses\n",
        "        response.raise_for_status()  # Raise HTTPError for bad responses\n",
        "        img = Image.open(BytesIO(response.content)).convert('RGB')  # Convert image to RGB\n",
        "        img = img.resize(target_size)  # Resize to target size\n",
        "        img_array = np.array(img) / 255.0  # Convert to numpy array and normalize\n",
        "        return img_array\n",
        "    except (requests.exceptions.RequestException, OSError) as e:\n",
        "        print(f\"Error loading image from {url}: {e}\")\n",
        "        # Return a placeholder (black image) if there's an error\n",
        "        return np.zeros((*target_size, 3))\n",
        "\n",
        "# Add a return statement to the __getitem__ method\n",
        "class ImageDataGenerator(Sequence):\n",
        "    def __init__(self, image_urls, labels, batch_size=32, target_size=(224, 224), shuffle=True):\n",
        "        self.image_urls = image_urls\n",
        "        self.labels = labels\n",
        "        self.batch_size = batch_size\n",
        "        self.target_size = target_size\n",
        "        self.shuffle = shuffle\n",
        "        self.on_epoch_end()\n",
        "\n",
        "    def __len__(self):\n",
        "        # Return the number of batches per epoch\n",
        "        return int(np.floor(len(self.image_urls) / self.batch_size))\n",
        "\n",
        "    def __getitem__(self, index):\n",
        "        # Generate one batch of data\n",
        "        batch_urls = self.image_urls[index * self.batch_size:(index + 1) * self.batch_size]\n",
        "        batch_labels = self.labels[index * self.batch_size:(index + 1) * self.batch_size]\n",
        "\n",
        "        # Load and preprocess the images\n",
        "        images = np.array([load_image_from_url(url, self.target_size) for url in batch_urls])\n",
        "\n",
        "        return images, np.array(batch_labels) # Added this return statement\n",
        "\n",
        "    def on_epoch_end(self):\n",
        "        # Optionally shuffle the data at the end of each epoch\n",
        "        if self.shuffle:\n",
        "            combined = list(zip(self.image_urls, self.labels))\n",
        "            np.random.shuffle(combined)\n",
        "            self.image_urls, self.labels = zip(*combined)\n",
        "\n",
        "\n"
      ]
    },
    {
      "cell_type": "code",
      "execution_count": 34,
      "id": "e4300434-d65e-4942-bb83-3de443340367",
      "metadata": {
        "id": "e4300434-d65e-4942-bb83-3de443340367"
      },
      "outputs": [],
      "source": [
        "# Create training and validation generators\n",
        "train_generator = ImageDataGenerator(train_image_urls, y_train_one_hot, batch_size=32)\n",
        "\n"
      ]
    },
    {
      "cell_type": "code",
      "execution_count": 4,
      "id": "e50888ef-b222-427b-9004-4fe411ed7b89",
      "metadata": {
        "id": "e50888ef-b222-427b-9004-4fe411ed7b89",
        "colab": {
          "base_uri": "https://localhost:8080/"
        },
        "outputId": "72a428aa-8c18-46ed-ca3a-5abff2a25fe7"
      },
      "outputs": [
        {
          "output_type": "stream",
          "name": "stdout",
          "text": [
            "Downloading data from https://storage.googleapis.com/tensorflow/keras-applications/mobilenet_v2/mobilenet_v2_weights_tf_dim_ordering_tf_kernels_1.0_224_no_top.h5\n",
            "\u001b[1m9406464/9406464\u001b[0m \u001b[32m━━━━━━━━━━━━━━━━━━━━\u001b[0m\u001b[37m\u001b[0m \u001b[1m0s\u001b[0m 0us/step\n"
          ]
        }
      ],
      "source": [
        "from tensorflow.keras.applications import MobileNetV2\n",
        "from tensorflow.keras import layers, models\n",
        "\n",
        "# Ensure input shape is clearly defined\n",
        "input_shape = (224, 224, 3)  # Change to your specific shape if needed\n",
        "num_classes = 10  # Number of output classes (change this as per your classification problem)\n",
        "\n",
        "# Load the pretrained base model without the top layers\n",
        "base_model = MobileNetV2(weights='imagenet', include_top=False, input_shape=input_shape)\n",
        "\n",
        "# Build your custom model on top of MobileNetV2\n",
        "model = models.Sequential([\n",
        "    base_model,\n",
        "    layers.GlobalAveragePooling2D(),  # This reduces the output to a 2D tensor\n",
        "    layers.Dense(512, activation='relu'),  # Custom dense layer\n",
        "    layers.Dense(num_classes, activation='softmax')  # Final output layer, adjust num_classes for your problem\n",
        "])\n",
        "\n",
        "# Compile the model\n",
        "model.compile(optimizer='adam', loss='categorical_crossentropy', metrics=['accuracy'])\n"
      ]
    },
    {
      "cell_type": "code",
      "execution_count": 54,
      "id": "18479b39-802f-4117-8805-b48f6003c591",
      "metadata": {
        "colab": {
          "base_uri": "https://localhost:8080/",
          "height": 512
        },
        "id": "18479b39-802f-4117-8805-b48f6003c591",
        "outputId": "db6bef45-b958-4691-caba-db0f8e9d80e5"
      },
      "outputs": [
        {
          "output_type": "stream",
          "name": "stdout",
          "text": [
            "(32, 224, 224, 3) (32, 65)\n",
            "[[0. 0. 0. ... 0. 0. 0.]\n",
            " [0. 1. 0. ... 0. 0. 0.]\n",
            " [0. 0. 0. ... 0. 0. 0.]\n",
            " ...\n",
            " [0. 0. 0. ... 0. 0. 0.]\n",
            " [0. 0. 0. ... 0. 0. 0.]\n",
            " [0. 0. 0. ... 0. 0. 0.]]\n"
          ]
        },
        {
          "output_type": "error",
          "ename": "AttributeError",
          "evalue": "'NoneType' object has no attribute 'items'",
          "traceback": [
            "\u001b[0;31m---------------------------------------------------------------------------\u001b[0m",
            "\u001b[0;31mAttributeError\u001b[0m                            Traceback (most recent call last)",
            "\u001b[0;32m<ipython-input-54-d4ee0813772e>\u001b[0m in \u001b[0;36m<cell line: 11>\u001b[0;34m()\u001b[0m\n\u001b[1;32m      9\u001b[0m \u001b[0;34m\u001b[0m\u001b[0m\n\u001b[1;32m     10\u001b[0m \u001b[0;31m# Evaluate the model using the generator and specify steps\u001b[0m\u001b[0;34m\u001b[0m\u001b[0;34m\u001b[0m\u001b[0m\n\u001b[0;32m---> 11\u001b[0;31m \u001b[0mtest_loss\u001b[0m\u001b[0;34m,\u001b[0m \u001b[0mtest_acc\u001b[0m \u001b[0;34m=\u001b[0m \u001b[0mmodel\u001b[0m\u001b[0;34m.\u001b[0m\u001b[0mevaluate\u001b[0m\u001b[0;34m(\u001b[0m\u001b[0mtrain_generator\u001b[0m\u001b[0;34m,\u001b[0m \u001b[0msteps\u001b[0m\u001b[0;34m=\u001b[0m\u001b[0mlen\u001b[0m\u001b[0;34m(\u001b[0m\u001b[0mtrain_generator\u001b[0m\u001b[0;34m)\u001b[0m\u001b[0;34m)\u001b[0m\u001b[0;34m\u001b[0m\u001b[0;34m\u001b[0m\u001b[0m\n\u001b[0m\u001b[1;32m     12\u001b[0m \u001b[0mprint\u001b[0m\u001b[0;34m(\u001b[0m\u001b[0;34mf\"Test Accuracy: {test_acc}\"\u001b[0m\u001b[0;34m)\u001b[0m\u001b[0;34m\u001b[0m\u001b[0;34m\u001b[0m\u001b[0m\n",
            "\u001b[0;32m/usr/local/lib/python3.10/dist-packages/keras/src/utils/traceback_utils.py\u001b[0m in \u001b[0;36merror_handler\u001b[0;34m(*args, **kwargs)\u001b[0m\n\u001b[1;32m    120\u001b[0m             \u001b[0;31m# To get the full stack trace, call:\u001b[0m\u001b[0;34m\u001b[0m\u001b[0;34m\u001b[0m\u001b[0m\n\u001b[1;32m    121\u001b[0m             \u001b[0;31m# `keras.config.disable_traceback_filtering()`\u001b[0m\u001b[0;34m\u001b[0m\u001b[0;34m\u001b[0m\u001b[0m\n\u001b[0;32m--> 122\u001b[0;31m             \u001b[0;32mraise\u001b[0m \u001b[0me\u001b[0m\u001b[0;34m.\u001b[0m\u001b[0mwith_traceback\u001b[0m\u001b[0;34m(\u001b[0m\u001b[0mfiltered_tb\u001b[0m\u001b[0;34m)\u001b[0m \u001b[0;32mfrom\u001b[0m \u001b[0;32mNone\u001b[0m\u001b[0;34m\u001b[0m\u001b[0;34m\u001b[0m\u001b[0m\n\u001b[0m\u001b[1;32m    123\u001b[0m         \u001b[0;32mfinally\u001b[0m\u001b[0;34m:\u001b[0m\u001b[0;34m\u001b[0m\u001b[0;34m\u001b[0m\u001b[0m\n\u001b[1;32m    124\u001b[0m             \u001b[0;32mdel\u001b[0m \u001b[0mfiltered_tb\u001b[0m\u001b[0;34m\u001b[0m\u001b[0;34m\u001b[0m\u001b[0m\n",
            "\u001b[0;32m/usr/local/lib/python3.10/dist-packages/keras/src/trainers/trainer.py\u001b[0m in \u001b[0;36m_pythonify_logs\u001b[0;34m(self, logs)\u001b[0m\n\u001b[1;32m    921\u001b[0m     \u001b[0;32mdef\u001b[0m \u001b[0m_pythonify_logs\u001b[0m\u001b[0;34m(\u001b[0m\u001b[0mself\u001b[0m\u001b[0;34m,\u001b[0m \u001b[0mlogs\u001b[0m\u001b[0;34m)\u001b[0m\u001b[0;34m:\u001b[0m\u001b[0;34m\u001b[0m\u001b[0;34m\u001b[0m\u001b[0m\n\u001b[1;32m    922\u001b[0m         \u001b[0mresult\u001b[0m \u001b[0;34m=\u001b[0m \u001b[0;34m{\u001b[0m\u001b[0;34m}\u001b[0m\u001b[0;34m\u001b[0m\u001b[0;34m\u001b[0m\u001b[0m\n\u001b[0;32m--> 923\u001b[0;31m         \u001b[0;32mfor\u001b[0m \u001b[0mkey\u001b[0m\u001b[0;34m,\u001b[0m \u001b[0mvalue\u001b[0m \u001b[0;32min\u001b[0m \u001b[0msorted\u001b[0m\u001b[0;34m(\u001b[0m\u001b[0mlogs\u001b[0m\u001b[0;34m.\u001b[0m\u001b[0mitems\u001b[0m\u001b[0;34m(\u001b[0m\u001b[0;34m)\u001b[0m\u001b[0;34m)\u001b[0m\u001b[0;34m:\u001b[0m\u001b[0;34m\u001b[0m\u001b[0;34m\u001b[0m\u001b[0m\n\u001b[0m\u001b[1;32m    924\u001b[0m             \u001b[0;32mif\u001b[0m \u001b[0misinstance\u001b[0m\u001b[0;34m(\u001b[0m\u001b[0mvalue\u001b[0m\u001b[0;34m,\u001b[0m \u001b[0mdict\u001b[0m\u001b[0;34m)\u001b[0m\u001b[0;34m:\u001b[0m\u001b[0;34m\u001b[0m\u001b[0;34m\u001b[0m\u001b[0m\n\u001b[1;32m    925\u001b[0m                 \u001b[0mresult\u001b[0m\u001b[0;34m.\u001b[0m\u001b[0mupdate\u001b[0m\u001b[0;34m(\u001b[0m\u001b[0mself\u001b[0m\u001b[0;34m.\u001b[0m\u001b[0m_pythonify_logs\u001b[0m\u001b[0;34m(\u001b[0m\u001b[0mvalue\u001b[0m\u001b[0;34m)\u001b[0m\u001b[0;34m)\u001b[0m\u001b[0;34m\u001b[0m\u001b[0;34m\u001b[0m\u001b[0m\n",
            "\u001b[0;31mAttributeError\u001b[0m: 'NoneType' object has no attribute 'items'"
          ]
        }
      ],
      "source": [
        "# Create training and validation generators\n",
        "train_generator = ImageDataGenerator(train_image_urls, y_train_one_hot, batch_size=32)\n",
        "\n",
        "# Iterate through the generator and print the shape of the data\n",
        "for images, labels in train_generator:\n",
        "    print(images.shape, labels.shape)\n",
        "    print(labels) # Print the labels to see the group_ids\n",
        "    break  # Stop after the first batch\n",
        "\n",
        "# Evaluate the model using the generator and specify steps\n",
        "test_loss, test_acc = model.evaluate(train_generator, steps=len(train_generator))\n",
        "print(f\"Test Accuracy: {test_acc}\")\n"
      ]
    },
    {
      "cell_type": "code",
      "execution_count": 56,
      "id": "4df4b22e-4658-4cb1-8052-887924fdeaaa",
      "metadata": {
        "id": "4df4b22e-4658-4cb1-8052-887924fdeaaa"
      },
      "outputs": [],
      "source": [
        "# Save the model\n",
        "model.save('image_entity_extraction_model.keras')\n"
      ]
    },
    {
      "cell_type": "code",
      "source": [
        "import pandas as pd\n",
        "\n",
        "# Load the sample CSV file containing image URLs for prediction\n",
        "sample_data = pd.read_csv('/content/sample_test.csv')\n",
        "\n",
        "# Display first few rows of the CSV file\n",
        "print(sample_data.head())\n"
      ],
      "metadata": {
        "colab": {
          "base_uri": "https://localhost:8080/"
        },
        "id": "-TEX7KqIm-cl",
        "outputId": "44299420-add5-4ffb-b9db-1c1033d840c7"
      },
      "id": "-TEX7KqIm-cl",
      "execution_count": 57,
      "outputs": [
        {
          "output_type": "stream",
          "name": "stdout",
          "text": [
            "   index                                         image_link  group_id  \\\n",
            "0      0  https://m.media-amazon.com/images/I/41-NCxNuBx...    658003   \n",
            "1      1  https://m.media-amazon.com/images/I/41-NCxNuBx...    658003   \n",
            "2      2  https://m.media-amazon.com/images/I/417NJrPEk+...    939426   \n",
            "3      3  https://m.media-amazon.com/images/I/417SThj+Sr...    276700   \n",
            "4      4  https://m.media-amazon.com/images/I/417SThj+Sr...    276700   \n",
            "\n",
            "                     entity_name  \n",
            "0                          width  \n",
            "1                          depth  \n",
            "2  maximum_weight_recommendation  \n",
            "3                        voltage  \n",
            "4                        wattage  \n"
          ]
        }
      ]
    },
    {
      "cell_type": "code",
      "source": [
        "import numpy as np\n",
        "import requests\n",
        "from PIL import Image\n",
        "from io import BytesIO\n",
        "\n",
        "# Function to load and preprocess an image from a URL\n",
        "def load_image_from_url(url, target_size=(224, 224)):\n",
        "    response = requests.get(url)\n",
        "    img = Image.open(BytesIO(response.content)).convert('RGB')\n",
        "    img = img.resize(target_size)  # Resize the image to match the model's input size\n",
        "    img_array = np.array(img) / 255.0  # Normalize the image\n",
        "    return img_array\n"
      ],
      "metadata": {
        "id": "Cn24nw6hnIpX"
      },
      "id": "Cn24nw6hnIpX",
      "execution_count": null,
      "outputs": []
    },
    {
      "cell_type": "code",
      "source": [
        "# Extract image URLs from the CSV file\n",
        "sample_image_urls = sample_data['image_link'].values\n",
        "\n",
        "# Load and preprocess images from URLs\n",
        "sample_images = []\n",
        "\n",
        "for url in sample_image_urls:\n",
        "    try:\n",
        "        image = load_image_from_url(url)\n",
        "        sample_images.append(image)\n",
        "    except:\n",
        "        print(f\"Failed to load image from {url}\")\n",
        "\n",
        "# Convert the list of images to a numpy array for prediction\n",
        "X_sample = np.array(sample_images)\n"
      ],
      "metadata": {
        "id": "0Lm1fGh1nNlB"
      },
      "id": "0Lm1fGh1nNlB",
      "execution_count": null,
      "outputs": []
    },
    {
      "cell_type": "code",
      "source": [
        "from tensorflow.keras.models import load_model\n",
        "\n",
        "# Load the saved model\n",
        "model = load_model('image_entity_extraction_model.h5')\n"
      ],
      "metadata": {
        "colab": {
          "base_uri": "https://localhost:8080/",
          "height": 356
        },
        "id": "AknWFhYSnXDB",
        "outputId": "51705e66-2b0e-47b2-c2ae-23b29a87f607"
      },
      "id": "AknWFhYSnXDB",
      "execution_count": null,
      "outputs": [
        {
          "output_type": "error",
          "ename": "ValueError",
          "evalue": "Layer \"dense\" expects 1 input(s), but it received 2 input tensors. Inputs received: [<KerasTensor shape=(None, 7, 7, 1280), dtype=float32, sparse=False, name=keras_tensor_1126>, <KerasTensor shape=(None, 7, 7, 1280), dtype=float32, sparse=False, name=keras_tensor_1127>]",
          "traceback": [
            "\u001b[0;31m---------------------------------------------------------------------------\u001b[0m",
            "\u001b[0;31mValueError\u001b[0m                                Traceback (most recent call last)",
            "\u001b[0;32m<ipython-input-13-5ef8f347f4b5>\u001b[0m in \u001b[0;36m<cell line: 4>\u001b[0;34m()\u001b[0m\n\u001b[1;32m      2\u001b[0m \u001b[0;34m\u001b[0m\u001b[0m\n\u001b[1;32m      3\u001b[0m \u001b[0;31m# Load the saved model\u001b[0m\u001b[0;34m\u001b[0m\u001b[0;34m\u001b[0m\u001b[0m\n\u001b[0;32m----> 4\u001b[0;31m \u001b[0mmodel\u001b[0m \u001b[0;34m=\u001b[0m \u001b[0mload_model\u001b[0m\u001b[0;34m(\u001b[0m\u001b[0;34m'image_entity_extraction_model.h5'\u001b[0m\u001b[0;34m)\u001b[0m\u001b[0;34m\u001b[0m\u001b[0;34m\u001b[0m\u001b[0m\n\u001b[0m",
            "\u001b[0;32m/usr/local/lib/python3.10/dist-packages/keras/src/saving/saving_api.py\u001b[0m in \u001b[0;36mload_model\u001b[0;34m(filepath, custom_objects, compile, safe_mode)\u001b[0m\n\u001b[1;32m    187\u001b[0m         )\n\u001b[1;32m    188\u001b[0m     \u001b[0;32mif\u001b[0m \u001b[0mstr\u001b[0m\u001b[0;34m(\u001b[0m\u001b[0mfilepath\u001b[0m\u001b[0;34m)\u001b[0m\u001b[0;34m.\u001b[0m\u001b[0mendswith\u001b[0m\u001b[0;34m(\u001b[0m\u001b[0;34m(\u001b[0m\u001b[0;34m\".h5\"\u001b[0m\u001b[0;34m,\u001b[0m \u001b[0;34m\".hdf5\"\u001b[0m\u001b[0;34m)\u001b[0m\u001b[0;34m)\u001b[0m\u001b[0;34m:\u001b[0m\u001b[0;34m\u001b[0m\u001b[0;34m\u001b[0m\u001b[0m\n\u001b[0;32m--> 189\u001b[0;31m         return legacy_h5_format.load_model_from_hdf5(\n\u001b[0m\u001b[1;32m    190\u001b[0m             \u001b[0mfilepath\u001b[0m\u001b[0;34m,\u001b[0m \u001b[0mcustom_objects\u001b[0m\u001b[0;34m=\u001b[0m\u001b[0mcustom_objects\u001b[0m\u001b[0;34m,\u001b[0m \u001b[0mcompile\u001b[0m\u001b[0;34m=\u001b[0m\u001b[0mcompile\u001b[0m\u001b[0;34m\u001b[0m\u001b[0;34m\u001b[0m\u001b[0m\n\u001b[1;32m    191\u001b[0m         )\n",
            "\u001b[0;32m/usr/local/lib/python3.10/dist-packages/keras/src/legacy/saving/legacy_h5_format.py\u001b[0m in \u001b[0;36mload_model_from_hdf5\u001b[0;34m(filepath, custom_objects, compile)\u001b[0m\n\u001b[1;32m    131\u001b[0m \u001b[0;34m\u001b[0m\u001b[0m\n\u001b[1;32m    132\u001b[0m         \u001b[0;32mwith\u001b[0m \u001b[0msaving_options\u001b[0m\u001b[0;34m.\u001b[0m\u001b[0mkeras_option_scope\u001b[0m\u001b[0;34m(\u001b[0m\u001b[0muse_legacy_config\u001b[0m\u001b[0;34m=\u001b[0m\u001b[0;32mTrue\u001b[0m\u001b[0;34m)\u001b[0m\u001b[0;34m:\u001b[0m\u001b[0;34m\u001b[0m\u001b[0;34m\u001b[0m\u001b[0m\n\u001b[0;32m--> 133\u001b[0;31m             model = saving_utils.model_from_config(\n\u001b[0m\u001b[1;32m    134\u001b[0m                 \u001b[0mmodel_config\u001b[0m\u001b[0;34m,\u001b[0m \u001b[0mcustom_objects\u001b[0m\u001b[0;34m=\u001b[0m\u001b[0mcustom_objects\u001b[0m\u001b[0;34m\u001b[0m\u001b[0;34m\u001b[0m\u001b[0m\n\u001b[1;32m    135\u001b[0m             )\n",
            "\u001b[0;32m/usr/local/lib/python3.10/dist-packages/keras/src/legacy/saving/saving_utils.py\u001b[0m in \u001b[0;36mmodel_from_config\u001b[0;34m(config, custom_objects)\u001b[0m\n\u001b[1;32m     83\u001b[0m     \u001b[0mconfig\u001b[0m \u001b[0;34m=\u001b[0m \u001b[0m_find_replace_nested_dict\u001b[0m\u001b[0;34m(\u001b[0m\u001b[0mconfig\u001b[0m\u001b[0;34m,\u001b[0m \u001b[0;34m\"keras.\"\u001b[0m\u001b[0;34m,\u001b[0m \u001b[0;34m\"keras.\"\u001b[0m\u001b[0;34m)\u001b[0m\u001b[0;34m\u001b[0m\u001b[0;34m\u001b[0m\u001b[0m\n\u001b[1;32m     84\u001b[0m \u001b[0;34m\u001b[0m\u001b[0m\n\u001b[0;32m---> 85\u001b[0;31m     return serialization.deserialize_keras_object(\n\u001b[0m\u001b[1;32m     86\u001b[0m         \u001b[0mconfig\u001b[0m\u001b[0;34m,\u001b[0m\u001b[0;34m\u001b[0m\u001b[0;34m\u001b[0m\u001b[0m\n\u001b[1;32m     87\u001b[0m         \u001b[0mmodule_objects\u001b[0m\u001b[0;34m=\u001b[0m\u001b[0mMODULE_OBJECTS\u001b[0m\u001b[0;34m.\u001b[0m\u001b[0mALL_OBJECTS\u001b[0m\u001b[0;34m,\u001b[0m\u001b[0;34m\u001b[0m\u001b[0;34m\u001b[0m\u001b[0m\n",
            "\u001b[0;32m/usr/local/lib/python3.10/dist-packages/keras/src/legacy/saving/serialization.py\u001b[0m in \u001b[0;36mdeserialize_keras_object\u001b[0;34m(identifier, module_objects, custom_objects, printable_module_name)\u001b[0m\n\u001b[1;32m    493\u001b[0m \u001b[0;34m\u001b[0m\u001b[0m\n\u001b[1;32m    494\u001b[0m             \u001b[0;32mif\u001b[0m \u001b[0;34m\"custom_objects\"\u001b[0m \u001b[0;32min\u001b[0m \u001b[0marg_spec\u001b[0m\u001b[0;34m.\u001b[0m\u001b[0margs\u001b[0m\u001b[0;34m:\u001b[0m\u001b[0;34m\u001b[0m\u001b[0;34m\u001b[0m\u001b[0m\n\u001b[0;32m--> 495\u001b[0;31m                 deserialized_obj = cls.from_config(\n\u001b[0m\u001b[1;32m    496\u001b[0m                     \u001b[0mcls_config\u001b[0m\u001b[0;34m,\u001b[0m\u001b[0;34m\u001b[0m\u001b[0;34m\u001b[0m\u001b[0m\n\u001b[1;32m    497\u001b[0m                     custom_objects={\n",
            "\u001b[0;32m/usr/local/lib/python3.10/dist-packages/keras/src/models/sequential.py\u001b[0m in \u001b[0;36mfrom_config\u001b[0;34m(cls, config, custom_objects)\u001b[0m\n\u001b[1;32m    349\u001b[0m                     \u001b[0mcustom_objects\u001b[0m\u001b[0;34m=\u001b[0m\u001b[0mcustom_objects\u001b[0m\u001b[0;34m,\u001b[0m\u001b[0;34m\u001b[0m\u001b[0;34m\u001b[0m\u001b[0m\n\u001b[1;32m    350\u001b[0m                 )\n\u001b[0;32m--> 351\u001b[0;31m             \u001b[0mmodel\u001b[0m\u001b[0;34m.\u001b[0m\u001b[0madd\u001b[0m\u001b[0;34m(\u001b[0m\u001b[0mlayer\u001b[0m\u001b[0;34m)\u001b[0m\u001b[0;34m\u001b[0m\u001b[0;34m\u001b[0m\u001b[0m\n\u001b[0m\u001b[1;32m    352\u001b[0m         if (\n\u001b[1;32m    353\u001b[0m             \u001b[0;32mnot\u001b[0m \u001b[0mmodel\u001b[0m\u001b[0;34m.\u001b[0m\u001b[0m_functional\u001b[0m\u001b[0;34m\u001b[0m\u001b[0;34m\u001b[0m\u001b[0m\n",
            "\u001b[0;32m/usr/local/lib/python3.10/dist-packages/keras/src/models/sequential.py\u001b[0m in \u001b[0;36madd\u001b[0;34m(self, layer, rebuild)\u001b[0m\n\u001b[1;32m    118\u001b[0m         \u001b[0mself\u001b[0m\u001b[0;34m.\u001b[0m\u001b[0m_layers\u001b[0m\u001b[0;34m.\u001b[0m\u001b[0mappend\u001b[0m\u001b[0;34m(\u001b[0m\u001b[0mlayer\u001b[0m\u001b[0;34m)\u001b[0m\u001b[0;34m\u001b[0m\u001b[0;34m\u001b[0m\u001b[0m\n\u001b[1;32m    119\u001b[0m         \u001b[0;32mif\u001b[0m \u001b[0mrebuild\u001b[0m\u001b[0;34m:\u001b[0m\u001b[0;34m\u001b[0m\u001b[0;34m\u001b[0m\u001b[0m\n\u001b[0;32m--> 120\u001b[0;31m             \u001b[0mself\u001b[0m\u001b[0;34m.\u001b[0m\u001b[0m_maybe_rebuild\u001b[0m\u001b[0;34m(\u001b[0m\u001b[0;34m)\u001b[0m\u001b[0;34m\u001b[0m\u001b[0;34m\u001b[0m\u001b[0m\n\u001b[0m\u001b[1;32m    121\u001b[0m         \u001b[0;32melse\u001b[0m\u001b[0;34m:\u001b[0m\u001b[0;34m\u001b[0m\u001b[0;34m\u001b[0m\u001b[0m\n\u001b[1;32m    122\u001b[0m             \u001b[0mself\u001b[0m\u001b[0;34m.\u001b[0m\u001b[0mbuilt\u001b[0m \u001b[0;34m=\u001b[0m \u001b[0;32mFalse\u001b[0m\u001b[0;34m\u001b[0m\u001b[0;34m\u001b[0m\u001b[0m\n",
            "\u001b[0;32m/usr/local/lib/python3.10/dist-packages/keras/src/models/sequential.py\u001b[0m in \u001b[0;36m_maybe_rebuild\u001b[0;34m(self)\u001b[0m\n\u001b[1;32m    137\u001b[0m         \u001b[0;32mif\u001b[0m \u001b[0misinstance\u001b[0m\u001b[0;34m(\u001b[0m\u001b[0mself\u001b[0m\u001b[0;34m.\u001b[0m\u001b[0m_layers\u001b[0m\u001b[0;34m[\u001b[0m\u001b[0;36m0\u001b[0m\u001b[0;34m]\u001b[0m\u001b[0;34m,\u001b[0m \u001b[0mInputLayer\u001b[0m\u001b[0;34m)\u001b[0m \u001b[0;32mand\u001b[0m \u001b[0mlen\u001b[0m\u001b[0;34m(\u001b[0m\u001b[0mself\u001b[0m\u001b[0;34m.\u001b[0m\u001b[0m_layers\u001b[0m\u001b[0;34m)\u001b[0m \u001b[0;34m>\u001b[0m \u001b[0;36m1\u001b[0m\u001b[0;34m:\u001b[0m\u001b[0;34m\u001b[0m\u001b[0;34m\u001b[0m\u001b[0m\n\u001b[1;32m    138\u001b[0m             \u001b[0minput_shape\u001b[0m \u001b[0;34m=\u001b[0m \u001b[0mself\u001b[0m\u001b[0;34m.\u001b[0m\u001b[0m_layers\u001b[0m\u001b[0;34m[\u001b[0m\u001b[0;36m0\u001b[0m\u001b[0;34m]\u001b[0m\u001b[0;34m.\u001b[0m\u001b[0mbatch_shape\u001b[0m\u001b[0;34m\u001b[0m\u001b[0;34m\u001b[0m\u001b[0m\n\u001b[0;32m--> 139\u001b[0;31m             \u001b[0mself\u001b[0m\u001b[0;34m.\u001b[0m\u001b[0mbuild\u001b[0m\u001b[0;34m(\u001b[0m\u001b[0minput_shape\u001b[0m\u001b[0;34m)\u001b[0m\u001b[0;34m\u001b[0m\u001b[0;34m\u001b[0m\u001b[0m\n\u001b[0m\u001b[1;32m    140\u001b[0m \u001b[0;34m\u001b[0m\u001b[0m\n\u001b[1;32m    141\u001b[0m     \u001b[0;32mdef\u001b[0m \u001b[0m_lock_state\u001b[0m\u001b[0;34m(\u001b[0m\u001b[0mself\u001b[0m\u001b[0;34m)\u001b[0m\u001b[0;34m:\u001b[0m\u001b[0;34m\u001b[0m\u001b[0;34m\u001b[0m\u001b[0m\n",
            "\u001b[0;32m/usr/local/lib/python3.10/dist-packages/keras/src/layers/layer.py\u001b[0m in \u001b[0;36mbuild_wrapper\u001b[0;34m(*args, **kwargs)\u001b[0m\n\u001b[1;32m    223\u001b[0m             \u001b[0;32mwith\u001b[0m \u001b[0mobj\u001b[0m\u001b[0;34m.\u001b[0m\u001b[0m_open_name_scope\u001b[0m\u001b[0;34m(\u001b[0m\u001b[0;34m)\u001b[0m\u001b[0;34m:\u001b[0m\u001b[0;34m\u001b[0m\u001b[0;34m\u001b[0m\u001b[0m\n\u001b[1;32m    224\u001b[0m                 \u001b[0mobj\u001b[0m\u001b[0;34m.\u001b[0m\u001b[0m_path\u001b[0m \u001b[0;34m=\u001b[0m \u001b[0mcurrent_path\u001b[0m\u001b[0;34m(\u001b[0m\u001b[0;34m)\u001b[0m\u001b[0;34m\u001b[0m\u001b[0;34m\u001b[0m\u001b[0m\n\u001b[0;32m--> 225\u001b[0;31m                 \u001b[0moriginal_build_method\u001b[0m\u001b[0;34m(\u001b[0m\u001b[0;34m*\u001b[0m\u001b[0margs\u001b[0m\u001b[0;34m,\u001b[0m \u001b[0;34m**\u001b[0m\u001b[0mkwargs\u001b[0m\u001b[0;34m)\u001b[0m\u001b[0;34m\u001b[0m\u001b[0;34m\u001b[0m\u001b[0m\n\u001b[0m\u001b[1;32m    226\u001b[0m             \u001b[0;31m# Record build config.\u001b[0m\u001b[0;34m\u001b[0m\u001b[0;34m\u001b[0m\u001b[0m\n\u001b[1;32m    227\u001b[0m             \u001b[0msignature\u001b[0m \u001b[0;34m=\u001b[0m \u001b[0minspect\u001b[0m\u001b[0;34m.\u001b[0m\u001b[0msignature\u001b[0m\u001b[0;34m(\u001b[0m\u001b[0moriginal_build_method\u001b[0m\u001b[0;34m)\u001b[0m\u001b[0;34m\u001b[0m\u001b[0;34m\u001b[0m\u001b[0m\n",
            "\u001b[0;32m/usr/local/lib/python3.10/dist-packages/keras/src/models/sequential.py\u001b[0m in \u001b[0;36mbuild\u001b[0;34m(self, input_shape)\u001b[0m\n\u001b[1;32m    181\u001b[0m         \u001b[0;32mfor\u001b[0m \u001b[0mlayer\u001b[0m \u001b[0;32min\u001b[0m \u001b[0mself\u001b[0m\u001b[0;34m.\u001b[0m\u001b[0m_layers\u001b[0m\u001b[0;34m[\u001b[0m\u001b[0;36m1\u001b[0m\u001b[0;34m:\u001b[0m\u001b[0;34m]\u001b[0m\u001b[0;34m:\u001b[0m\u001b[0;34m\u001b[0m\u001b[0;34m\u001b[0m\u001b[0m\n\u001b[1;32m    182\u001b[0m             \u001b[0;32mtry\u001b[0m\u001b[0;34m:\u001b[0m\u001b[0;34m\u001b[0m\u001b[0;34m\u001b[0m\u001b[0m\n\u001b[0;32m--> 183\u001b[0;31m                 \u001b[0mx\u001b[0m \u001b[0;34m=\u001b[0m \u001b[0mlayer\u001b[0m\u001b[0;34m(\u001b[0m\u001b[0mx\u001b[0m\u001b[0;34m)\u001b[0m\u001b[0;34m\u001b[0m\u001b[0;34m\u001b[0m\u001b[0m\n\u001b[0m\u001b[1;32m    184\u001b[0m             \u001b[0;32mexcept\u001b[0m \u001b[0mNotImplementedError\u001b[0m\u001b[0;34m:\u001b[0m\u001b[0;34m\u001b[0m\u001b[0;34m\u001b[0m\u001b[0m\n\u001b[1;32m    185\u001b[0m                 \u001b[0;31m# Can happen if shape inference is not implemented.\u001b[0m\u001b[0;34m\u001b[0m\u001b[0;34m\u001b[0m\u001b[0m\n",
            "\u001b[0;32m/usr/local/lib/python3.10/dist-packages/keras/src/utils/traceback_utils.py\u001b[0m in \u001b[0;36merror_handler\u001b[0;34m(*args, **kwargs)\u001b[0m\n\u001b[1;32m    120\u001b[0m             \u001b[0;31m# To get the full stack trace, call:\u001b[0m\u001b[0;34m\u001b[0m\u001b[0;34m\u001b[0m\u001b[0m\n\u001b[1;32m    121\u001b[0m             \u001b[0;31m# `keras.config.disable_traceback_filtering()`\u001b[0m\u001b[0;34m\u001b[0m\u001b[0;34m\u001b[0m\u001b[0m\n\u001b[0;32m--> 122\u001b[0;31m             \u001b[0;32mraise\u001b[0m \u001b[0me\u001b[0m\u001b[0;34m.\u001b[0m\u001b[0mwith_traceback\u001b[0m\u001b[0;34m(\u001b[0m\u001b[0mfiltered_tb\u001b[0m\u001b[0;34m)\u001b[0m \u001b[0;32mfrom\u001b[0m \u001b[0;32mNone\u001b[0m\u001b[0;34m\u001b[0m\u001b[0;34m\u001b[0m\u001b[0m\n\u001b[0m\u001b[1;32m    123\u001b[0m         \u001b[0;32mfinally\u001b[0m\u001b[0;34m:\u001b[0m\u001b[0;34m\u001b[0m\u001b[0;34m\u001b[0m\u001b[0m\n\u001b[1;32m    124\u001b[0m             \u001b[0;32mdel\u001b[0m \u001b[0mfiltered_tb\u001b[0m\u001b[0;34m\u001b[0m\u001b[0;34m\u001b[0m\u001b[0m\n",
            "\u001b[0;32m/usr/local/lib/python3.10/dist-packages/keras/src/layers/input_spec.py\u001b[0m in \u001b[0;36massert_input_compatibility\u001b[0;34m(input_spec, inputs, layer_name)\u001b[0m\n\u001b[1;32m    158\u001b[0m     \u001b[0minputs\u001b[0m \u001b[0;34m=\u001b[0m \u001b[0mtree\u001b[0m\u001b[0;34m.\u001b[0m\u001b[0mflatten\u001b[0m\u001b[0;34m(\u001b[0m\u001b[0minputs\u001b[0m\u001b[0;34m)\u001b[0m\u001b[0;34m\u001b[0m\u001b[0;34m\u001b[0m\u001b[0m\n\u001b[1;32m    159\u001b[0m     \u001b[0;32mif\u001b[0m \u001b[0mlen\u001b[0m\u001b[0;34m(\u001b[0m\u001b[0minputs\u001b[0m\u001b[0;34m)\u001b[0m \u001b[0;34m!=\u001b[0m \u001b[0mlen\u001b[0m\u001b[0;34m(\u001b[0m\u001b[0minput_spec\u001b[0m\u001b[0;34m)\u001b[0m\u001b[0;34m:\u001b[0m\u001b[0;34m\u001b[0m\u001b[0;34m\u001b[0m\u001b[0m\n\u001b[0;32m--> 160\u001b[0;31m         raise ValueError(\n\u001b[0m\u001b[1;32m    161\u001b[0m             \u001b[0;34mf'Layer \"{layer_name}\" expects {len(input_spec)} input(s),'\u001b[0m\u001b[0;34m\u001b[0m\u001b[0;34m\u001b[0m\u001b[0m\n\u001b[1;32m    162\u001b[0m             \u001b[0;34mf\" but it received {len(inputs)} input tensors. \"\u001b[0m\u001b[0;34m\u001b[0m\u001b[0;34m\u001b[0m\u001b[0m\n",
            "\u001b[0;31mValueError\u001b[0m: Layer \"dense\" expects 1 input(s), but it received 2 input tensors. Inputs received: [<KerasTensor shape=(None, 7, 7, 1280), dtype=float32, sparse=False, name=keras_tensor_1126>, <KerasTensor shape=(None, 7, 7, 1280), dtype=float32, sparse=False, name=keras_tensor_1127>]"
          ]
        }
      ]
    },
    {
      "cell_type": "code",
      "source": [
        "# Make predictions on the sample data\n",
        "predictions = model.predict(X_sample)\n",
        "\n",
        "# Print raw predictions (probabilities for each class)\n",
        "print(predictions)\n",
        "\n",
        "# If you used one-hot encoding for your labels during training, you may want to convert the predictions back to class labels:\n",
        "predicted_classes = np.argmax(predictions, axis=1)\n",
        "print(predicted_classes)\n",
        "\n",
        "# If you have a label encoder, you can reverse the encoding to get the original class names:\n",
        "#predicted_labels = label_encoder.inverse_transform(predicted_classes)\n",
        "#print(predicted_labels)\n"
      ],
      "metadata": {
        "colab": {
          "base_uri": "https://localhost:8080/"
        },
        "id": "SBfJCr6drhrx",
        "outputId": "9926094f-f293-4f79-e0fb-128ec394e424"
      },
      "id": "SBfJCr6drhrx",
      "execution_count": null,
      "outputs": [
        {
          "output_type": "stream",
          "name": "stdout",
          "text": [
            "\u001b[1m3/3\u001b[0m \u001b[32m━━━━━━━━━━━━━━━━━━━━\u001b[0m\u001b[37m\u001b[0m \u001b[1m3s\u001b[0m 972ms/step\n",
            "[[0.25087544 0.05539677 0.02483157 0.04061174 0.11820537 0.14449467\n",
            "  0.11296121 0.05669275 0.13766807 0.05826243]\n",
            " [0.25087544 0.05539677 0.02483157 0.04061174 0.11820537 0.14449467\n",
            "  0.11296121 0.05669275 0.13766807 0.05826243]\n",
            " [0.19249031 0.0279333  0.05394839 0.03621569 0.03793417 0.12718728\n",
            "  0.0834114  0.16945708 0.1727202  0.09870222]\n",
            " [0.15074594 0.03931948 0.08146908 0.01914515 0.11027356 0.08293116\n",
            "  0.13268824 0.13732494 0.09701772 0.14908464]\n",
            " [0.15074594 0.03931948 0.08146908 0.01914515 0.11027356 0.08293116\n",
            "  0.13268824 0.13732494 0.09701772 0.14908464]\n",
            " [0.14366946 0.02671497 0.04596415 0.05515042 0.09946744 0.11335561\n",
            "  0.1165256  0.12558624 0.15853186 0.11503433]\n",
            " [0.08154701 0.08713713 0.05184818 0.020394   0.09673997 0.14163707\n",
            "  0.0961661  0.17193842 0.13205177 0.1205402 ]\n",
            " [0.08154701 0.08713713 0.05184818 0.020394   0.09673997 0.14163707\n",
            "  0.0961661  0.17193842 0.13205177 0.1205402 ]\n",
            " [0.1531666  0.05156285 0.11377299 0.06740612 0.06046186 0.13725048\n",
            "  0.07702797 0.13463736 0.10279331 0.10192051]\n",
            " [0.19922647 0.01919137 0.03957387 0.03446184 0.13581075 0.08341016\n",
            "  0.05889204 0.1651072  0.10847308 0.15585321]\n",
            " [0.29122636 0.02343832 0.09675699 0.01613461 0.15883842 0.08628377\n",
            "  0.1106232  0.05750401 0.1351807  0.02401359]\n",
            " [0.29122636 0.02343832 0.09675699 0.01613461 0.15883842 0.08628377\n",
            "  0.1106232  0.05750401 0.1351807  0.02401359]\n",
            " [0.1775333  0.09853189 0.03320014 0.00918913 0.13166216 0.15657343\n",
            "  0.08600983 0.06728169 0.21376887 0.02624959]\n",
            " [0.1775333  0.09853189 0.03320014 0.00918913 0.13166216 0.15657343\n",
            "  0.08600983 0.06728169 0.21376887 0.02624959]\n",
            " [0.20210229 0.06261725 0.08599025 0.03740165 0.1636378  0.08913042\n",
            "  0.09167712 0.09445395 0.0694292  0.10356008]\n",
            " [0.0641536  0.03909955 0.04171359 0.03914519 0.17932224 0.2734623\n",
            "  0.08508547 0.0292993  0.22339706 0.02532162]\n",
            " [0.0641536  0.03909955 0.04171359 0.03914519 0.17932224 0.2734623\n",
            "  0.08508547 0.0292993  0.22339706 0.02532162]\n",
            " [0.17545746 0.00818054 0.06015193 0.01676573 0.22385791 0.04295994\n",
            "  0.15133005 0.20344424 0.05610562 0.06174641]\n",
            " [0.17545746 0.00818054 0.06015193 0.01676573 0.22385791 0.04295994\n",
            "  0.15133005 0.20344424 0.05610562 0.06174641]\n",
            " [0.1252726  0.08406568 0.06367014 0.05928168 0.06956572 0.08795576\n",
            "  0.26978743 0.05251115 0.14265372 0.04523628]\n",
            " [0.1252726  0.08406568 0.06367014 0.05928168 0.06956572 0.08795576\n",
            "  0.26978743 0.05251115 0.14265372 0.04523628]\n",
            " [0.1252726  0.08406568 0.06367014 0.05928168 0.06956572 0.08795576\n",
            "  0.26978743 0.05251115 0.14265372 0.04523628]\n",
            " [0.10274249 0.04589731 0.02989094 0.01970332 0.24500504 0.11687335\n",
            "  0.21449558 0.07153988 0.13001055 0.02384158]\n",
            " [0.10274249 0.04589731 0.02989094 0.01970332 0.24500504 0.11687335\n",
            "  0.21449558 0.07153988 0.13001055 0.02384158]\n",
            " [0.13723044 0.02127105 0.05018276 0.07590654 0.06861848 0.08503793\n",
            "  0.14236939 0.16159321 0.08481035 0.17297986]\n",
            " [0.13723044 0.02127105 0.05018276 0.07590654 0.06861848 0.08503793\n",
            "  0.14236939 0.16159321 0.08481035 0.17297986]\n",
            " [0.16783659 0.05493388 0.05153496 0.03668666 0.04963359 0.1254805\n",
            "  0.25799727 0.07983854 0.08977085 0.08628722]\n",
            " [0.16783659 0.05493388 0.05153496 0.03668666 0.04963359 0.1254805\n",
            "  0.25799727 0.07983854 0.08977085 0.08628722]\n",
            " [0.10925005 0.06310574 0.08090375 0.05518903 0.27106372 0.18470861\n",
            "  0.06056148 0.05022015 0.07431969 0.05067786]\n",
            " [0.10925005 0.06310574 0.08090375 0.05518903 0.27106372 0.18470861\n",
            "  0.06056148 0.05022015 0.07431969 0.05067786]\n",
            " [0.10925005 0.06310574 0.08090372 0.05518902 0.27106372 0.18470861\n",
            "  0.06056148 0.05022014 0.07431967 0.05067785]\n",
            " [0.2015619  0.04967283 0.0477603  0.01838821 0.12792182 0.08282253\n",
            "  0.18309572 0.11380243 0.13424627 0.04072798]\n",
            " [0.16747782 0.05773268 0.04588093 0.05681992 0.18292318 0.11720461\n",
            "  0.07115275 0.13330391 0.12119772 0.04630663]\n",
            " [0.16747782 0.05773268 0.04588093 0.05681992 0.18292318 0.11720461\n",
            "  0.07115275 0.13330391 0.12119772 0.04630663]\n",
            " [0.12745409 0.02162751 0.11628864 0.03470621 0.08485449 0.09811929\n",
            "  0.18704857 0.08125038 0.16393772 0.08471311]\n",
            " [0.22527735 0.02037408 0.10954654 0.02343903 0.10463361 0.05065951\n",
            "  0.21601729 0.08161341 0.09600315 0.07243598]\n",
            " [0.11293532 0.03885219 0.04523164 0.06701869 0.05899596 0.12748809\n",
            "  0.11476544 0.16669236 0.16793713 0.1000832 ]\n",
            " [0.0880923  0.04118103 0.07965078 0.07263076 0.26910973 0.07214136\n",
            "  0.06212468 0.09957061 0.11066401 0.1048348 ]\n",
            " [0.14950657 0.09747033 0.04122918 0.08724321 0.05466357 0.13056763\n",
            "  0.24692903 0.0327162  0.08524596 0.07442834]\n",
            " [0.11455029 0.03282897 0.0607717  0.05027752 0.13564561 0.14545165\n",
            "  0.13451289 0.05881119 0.20205764 0.06509253]\n",
            " [0.11455029 0.03282897 0.0607717  0.05027752 0.13564561 0.14545165\n",
            "  0.13451289 0.05881119 0.20205764 0.06509253]\n",
            " [0.11455029 0.03282897 0.0607717  0.05027752 0.13564561 0.14545165\n",
            "  0.13451289 0.05881119 0.20205764 0.06509253]\n",
            " [0.14860266 0.10626991 0.03217398 0.0292656  0.15031658 0.09742999\n",
            "  0.09476547 0.03204056 0.16701742 0.14211792]\n",
            " [0.13302675 0.05186918 0.02413435 0.02492259 0.03281469 0.0729127\n",
            "  0.1860654  0.10896522 0.1685129  0.19677624]\n",
            " [0.13302675 0.05186918 0.02413435 0.02492259 0.03281469 0.0729127\n",
            "  0.1860654  0.10896522 0.1685129  0.19677624]\n",
            " [0.09819427 0.04841322 0.0419304  0.08208087 0.0672497  0.10660741\n",
            "  0.3135473  0.04304203 0.07922192 0.11971299]\n",
            " [0.04743813 0.05049748 0.01975583 0.04478352 0.18707083 0.06859697\n",
            "  0.11805732 0.04599934 0.10744154 0.31035903]\n",
            " [0.04743813 0.05049748 0.01975583 0.04478352 0.18707083 0.06859697\n",
            "  0.11805732 0.04599934 0.10744154 0.31035903]\n",
            " [0.10210333 0.05257415 0.0880653  0.03447935 0.07574826 0.12994665\n",
            "  0.13355495 0.16767302 0.1334163  0.0824386 ]\n",
            " [0.10210333 0.05257415 0.0880653  0.03447935 0.07574826 0.12994665\n",
            "  0.13355495 0.16767302 0.1334163  0.0824386 ]\n",
            " [0.10210333 0.05257415 0.0880653  0.03447935 0.07574826 0.12994665\n",
            "  0.13355495 0.16767302 0.1334163  0.0824386 ]\n",
            " [0.35722062 0.02590975 0.00917938 0.01320509 0.09879029 0.11132053\n",
            "  0.05249007 0.10711607 0.19313252 0.0316356 ]\n",
            " [0.09936142 0.02362025 0.04121358 0.03399524 0.23497821 0.02537135\n",
            "  0.11418863 0.26975197 0.1072933  0.05022606]\n",
            " [0.06466693 0.16438708 0.02951425 0.03730408 0.23799644 0.09450204\n",
            "  0.06462649 0.05184078 0.22802186 0.0271399 ]\n",
            " [0.06466693 0.16438708 0.02951425 0.03730408 0.23799644 0.09450204\n",
            "  0.06462649 0.05184078 0.22802186 0.0271399 ]\n",
            " [0.06466693 0.16438708 0.02951425 0.03730408 0.23799644 0.09450204\n",
            "  0.06462649 0.05184078 0.22802186 0.0271399 ]\n",
            " [0.1193435  0.03932779 0.06902592 0.07071996 0.0702885  0.1143091\n",
            "  0.19311105 0.1085342  0.12801756 0.08732229]\n",
            " [0.1193435  0.03932779 0.06902592 0.07071996 0.0702885  0.1143091\n",
            "  0.19311105 0.1085342  0.12801756 0.08732229]\n",
            " [0.1607988  0.07971105 0.05961169 0.05348252 0.06928519 0.18084592\n",
            "  0.09433568 0.0845051  0.14894757 0.06847648]\n",
            " [0.09264077 0.13373542 0.02102971 0.10621221 0.17290765 0.07265312\n",
            "  0.1377442  0.09248542 0.13450214 0.03608938]\n",
            " [0.09264077 0.13373542 0.02102971 0.10621221 0.17290765 0.07265312\n",
            "  0.1377442  0.09248542 0.13450214 0.03608938]\n",
            " [0.1893029  0.0374022  0.01936256 0.01697555 0.06718578 0.08159459\n",
            "  0.16738537 0.05188248 0.2557172  0.11319146]\n",
            " [0.05740479 0.09528053 0.02656145 0.04161391 0.14655522 0.05760828\n",
            "  0.25154972 0.07646326 0.17161635 0.07534651]\n",
            " [0.12268592 0.05833158 0.06398905 0.04338161 0.13135645 0.17040838\n",
            "  0.16181003 0.05950225 0.12671933 0.06181535]\n",
            " [0.12268592 0.05833159 0.06398902 0.04338159 0.13135643 0.17040843\n",
            "  0.16180997 0.05950226 0.1267194  0.06181535]\n",
            " [0.12612182 0.09765904 0.06480946 0.07692018 0.077794   0.13058315\n",
            "  0.07455315 0.07082944 0.10344491 0.17728467]\n",
            " [0.10041425 0.03879608 0.05539312 0.05098992 0.12029732 0.10095217\n",
            "  0.14071986 0.07317407 0.15189567 0.16736753]\n",
            " [0.1406308  0.02188448 0.0622514  0.05530174 0.06837116 0.11604098\n",
            "  0.25596145 0.09315537 0.10751757 0.07888507]\n",
            " [0.1406308  0.02188448 0.0622514  0.05530174 0.06837116 0.11604098\n",
            "  0.25596145 0.09315537 0.10751757 0.07888507]\n",
            " [0.29499832 0.02884638 0.03550844 0.02150313 0.17252205 0.09949102\n",
            "  0.11553064 0.09289926 0.05116966 0.08753119]\n",
            " [0.29499832 0.02884638 0.03550844 0.02150313 0.17252205 0.09949102\n",
            "  0.11553064 0.09289926 0.05116966 0.08753119]\n",
            " [0.04813952 0.02656011 0.02989121 0.10576899 0.06167364 0.08858576\n",
            "  0.35374373 0.12728542 0.11823554 0.04011602]\n",
            " [0.04813952 0.02656011 0.02989121 0.10576899 0.06167364 0.08858576\n",
            "  0.35374373 0.12728542 0.11823554 0.04011602]\n",
            " [0.04365455 0.037653   0.03382465 0.03047284 0.03854829 0.10907983\n",
            "  0.31878322 0.03337268 0.3140355  0.04057538]\n",
            " [0.04365455 0.037653   0.03382465 0.03047284 0.03854829 0.10907983\n",
            "  0.31878322 0.03337268 0.3140355  0.04057538]\n",
            " [0.1183368  0.03578778 0.12126723 0.08630225 0.12114965 0.06889009\n",
            "  0.10388794 0.11142334 0.10285595 0.13009898]\n",
            " [0.1183368  0.03578778 0.12126723 0.08630225 0.12114965 0.06889009\n",
            "  0.10388794 0.11142334 0.10285595 0.13009898]\n",
            " [0.11175985 0.05994918 0.06577387 0.02111395 0.06972889 0.05503312\n",
            "  0.18240345 0.08145215 0.11943761 0.23334804]\n",
            " [0.07290532 0.0409289  0.02032541 0.08296949 0.05974115 0.13168766\n",
            "  0.21737163 0.07472353 0.21137129 0.08797554]\n",
            " [0.06739514 0.05243438 0.02276835 0.03400294 0.17880388 0.1554489\n",
            "  0.09748454 0.08978876 0.22419766 0.07767538]\n",
            " [0.06739514 0.05243438 0.02276835 0.03400294 0.17880388 0.1554489\n",
            "  0.09748454 0.08978876 0.22419766 0.07767538]\n",
            " [0.10675164 0.01642294 0.03772759 0.04435039 0.18038304 0.05168961\n",
            "  0.24501276 0.11640389 0.15369989 0.0475582 ]\n",
            " [0.10675164 0.01642294 0.03772759 0.04435039 0.18038304 0.05168961\n",
            "  0.24501276 0.11640389 0.15369989 0.0475582 ]\n",
            " [0.08249127 0.07165862 0.07485423 0.04996017 0.16411127 0.04781409\n",
            "  0.15097347 0.0961673  0.1325655  0.12940407]\n",
            " [0.10964673 0.0220628  0.11184191 0.02991783 0.03798415 0.10761701\n",
            "  0.09793667 0.19088449 0.21156637 0.08054203]\n",
            " [0.03058381 0.04909153 0.0088191  0.03826078 0.04834183 0.09472234\n",
            "  0.14265087 0.15636092 0.38307154 0.04809729]\n",
            " [0.24477221 0.01244969 0.04623127 0.07934348 0.10364228 0.05763756\n",
            "  0.05168294 0.11436077 0.1118506  0.17802922]\n",
            " [0.24477221 0.01244969 0.04623127 0.07934348 0.10364228 0.05763756\n",
            "  0.05168294 0.11436077 0.1118506  0.17802922]]\n",
            "[0 0 0 0 0 8 7 7 0 0 0 0 8 8 0 5 5 4 4 6 6 6 4 4 9 9 6 6 4 4 4 0 4 4 6 0 8\n",
            " 4 6 8 8 8 8 9 9 6 9 9 7 7 7 0 7 4 4 4 6 6 5 4 4 8 6 5 5 9 9 6 6 0 0 6 6 6\n",
            " 6 9 9 9 6 8 8 6 6 4 8 8 0 0]\n"
          ]
        }
      ]
    },
    {
      "cell_type": "code",
      "source": [
        "# Add the predictions to the DataFrame\n",
        "#sample_data['predicted_labels'] = predicted_labels\n",
        "\n",
        "# Save the CSV file with predictions\n",
        "sample_data.to_csv('sample_data_with_predictions.csv', index=False)\n",
        "\n",
        "# Display the first few rows of the updated DataFrame\n",
        "print(sample_data.head())\n"
      ],
      "metadata": {
        "colab": {
          "base_uri": "https://localhost:8080/"
        },
        "id": "zWhHIBxXsM40",
        "outputId": "1a8ffd77-06f4-4501-82b4-afa20246d19c"
      },
      "id": "zWhHIBxXsM40",
      "execution_count": null,
      "outputs": [
        {
          "output_type": "stream",
          "name": "stdout",
          "text": [
            "   index                                         image_link  group_id  \\\n",
            "0      0  https://m.media-amazon.com/images/I/41-NCxNuBx...    658003   \n",
            "1      1  https://m.media-amazon.com/images/I/41-NCxNuBx...    658003   \n",
            "2      2  https://m.media-amazon.com/images/I/417NJrPEk+...    939426   \n",
            "3      3  https://m.media-amazon.com/images/I/417SThj+Sr...    276700   \n",
            "4      4  https://m.media-amazon.com/images/I/417SThj+Sr...    276700   \n",
            "\n",
            "                     entity_name  \n",
            "0                          width  \n",
            "1                          depth  \n",
            "2  maximum_weight_recommendation  \n",
            "3                        voltage  \n",
            "4                        wattage  \n"
          ]
        }
      ]
    }
  ],
  "metadata": {
    "kernelspec": {
      "display_name": "Python 3 (ipykernel)",
      "language": "python",
      "name": "python3"
    },
    "language_info": {
      "codemirror_mode": {
        "name": "ipython",
        "version": 3
      },
      "file_extension": ".py",
      "mimetype": "text/x-python",
      "name": "python",
      "nbconvert_exporter": "python",
      "pygments_lexer": "ipython3",
      "version": "3.12.4"
    },
    "colab": {
      "provenance": []
    }
  },
  "nbformat": 4,
  "nbformat_minor": 5
}